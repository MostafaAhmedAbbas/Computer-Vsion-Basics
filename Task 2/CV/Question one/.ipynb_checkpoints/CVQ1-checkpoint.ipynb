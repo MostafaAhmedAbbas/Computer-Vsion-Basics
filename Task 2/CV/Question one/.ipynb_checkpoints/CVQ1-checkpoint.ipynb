{
 "cells": [
  {
   "cell_type": "code",
   "execution_count": 22,
   "metadata": {},
   "outputs": [
    {
     "name": "stdout",
     "output_type": "stream",
     "text": [
      "(256, 256)\n"
     ]
    },
    {
     "data": {
      "image/png": "[encoded data removed]",
      "text/plain": [
       "<Figure size 432x288 with 1 Axes>"
      ]
     },
     "metadata": {
      "needs_background": "light"
     },
     "output_type": "display_data"
    }
   ],
   "source": [
    "from PIL import Image\n",
    "import numpy as np \n",
    "import matplotlib.pyplot as plt\n",
    "import sys\n",
    "import math\n",
    "\n",
    "def calculateSize(sigma):\n",
    "    return 6 * sigma + 1\n",
    "    \n",
    "def calculateLoG(x,y,sigma):\n",
    "    loG = (-1/(math.pi*(sigma**4)))\n",
    "    mid = (1 - ( ((x)**2 + (y)**2) /(2*sigma**2)))\n",
    "    exp = (math.exp( -( ((x)**2 + (y)**2))/( 2 * sigma**2)))\n",
    "    return loG * mid * exp\n",
    "    \n",
    "def convolve(image, imageFilter, size):\n",
    "    newImage = np.zeros(image.shape)\n",
    "    for i in range(0,image.shape[0]):\n",
    "        for j in range(0,image.shape[1]):\n",
    "            if(i - (size//2) >= 0 and j - (size//2) >= 0 and i + (size//2) < image.shape[0] and j + (size//2) < image.shape[1]):\n",
    "                newImage[i][j] = np.sum(image[i - size//2: i + (size//2) + 1, j - size//2: j + (size//2) + 1] * imageFilter)\n",
    "    return newImage\n",
    "    \n",
    "def LoGEdgeDetection(fileName, sigma, threshold):\n",
    "    s = calculateSize(sigma)\n",
    "    image = Image.open(fileName)\n",
    "    img = np.array(image, dtype='int64')\n",
    "    imageFilter = np.zeros((s,s))\n",
    "    for i in range (-s//2, s//2 + 1):\n",
    "        for j in range (-s//2, s//2 + 1):\n",
    "            imageFilter[i+s//2][j+s//2] = calculateLoG(i,j,sigma)\n",
    "    result = convolve(img, imageFilter, s)\n",
    "    gradientsVertical = getVerticalEdges(result)\n",
    "    gradientsHorizontal = getHorizontalEdges(result)\n",
    "    \n",
    "    gradients = np.zeros(img.shape)\n",
    "    print(gradients.shape)\n",
    "    for i in range(0,img.shape[0]):\n",
    "        for j in range(0,img.shape[1]):\n",
    "            result = math.sqrt((gradientsVertical[i][j]**2) + (gradientsHorizontal[i][j]**2))\n",
    "            gradients[i][j] = result\n",
    "    \n",
    "    max = np.amax(gradients)\n",
    "    norm = np.zeros(img.shape)\n",
    "    for i in range(0,img.shape[0]):\n",
    "        for j in range(0,img.shape[1]):\n",
    "            norm[i][j] = gradients[i][j] / max\n",
    "    \n",
    "    final = np.zeros(img.shape)\n",
    "    for i in range(0,img.shape[0]):\n",
    "        for j in range(0,img.shape[1]):\n",
    "            if(norm[i][j] < 0.25):\n",
    "                final[i][j] = 0\n",
    "            else:\n",
    "                final[i][j] = 1\n",
    "    plt.imshow(final, cmap='gray')\n",
    "    plt.savefig(\"Log_\" + str(sigma) + \".jpg\")\n",
    "#     savedImage = Image.fromarray(final,'L')\n",
    "#     savedImage = savedImage.convert('RGB')\n",
    "#     savedImage.save(\"Log_\" + str(sigma) + \".jpg\")\n",
    "                \n",
    "def getVerticalEdges(image):\n",
    "    prewitt = np.zeros((3,3))\n",
    "    prewitt[0][0] = -1\n",
    "    prewitt[1][0] = -1\n",
    "    prewitt[2][0] = -1\n",
    "    prewitt[0][2] = 1\n",
    "    prewitt[1][2] = 1\n",
    "    prewitt[2][2] = 1\n",
    "    newImage = np.zeros(image.shape)\n",
    "    for i in range(0,image.shape[0]):\n",
    "        for j in range(0,image.shape[1]):\n",
    "            if(i - 1 >= 0 and j - 1 >= 0 and i + 1 < image.shape[0] and j + 1 < image.shape[1]):\n",
    "                newImage[i][j] = np.sum(image[i - 1: i + 2, j - 1: j + 2] * prewitt)\n",
    "    return newImage\n",
    "    \n",
    "def getHorizontalEdges(image):\n",
    "    prewitt = np.zeros((3,3))\n",
    "    prewitt[0][0] = -1\n",
    "    prewitt[0][1] = -1\n",
    "    prewitt[0][2] = -1\n",
    "    prewitt[2][0] = 1\n",
    "    prewitt[2][1] = 1\n",
    "    prewitt[2][2] = 1\n",
    "    newImage = np.zeros(image.shape)\n",
    "    for i in range(0,image.shape[0]):\n",
    "        for j in range(0,image.shape[1]):\n",
    "            if(i - 1 >= 0 and j - 1 >= 0 and i + 1 < image.shape[0] and j + 1 < image.shape[1]):\n",
    "                newImage[i][j] = np.sum(image[i - 1: i + 2, j - 1: j + 2] * prewitt)\n",
    "    return newImage\n",
    "    \n",
    "LoGEdgeDetection('Cameraman.tif', 4, 0.1)"
   ]
  },
  {
   "cell_type": "code",
   "execution_count": null,
   "metadata": {},
   "outputs": [],
   "source": []
  },
  {
   "cell_type": "code",
   "execution_count": null,
   "metadata": {},
   "outputs": [],
   "source": []
  }
 ],
 "metadata": {
  "kernelspec": {
   "display_name": "Python 3",
   "language": "python",
   "name": "python3"
  },
  "language_info": {
   "codemirror_mode": {
    "name": "ipython",
    "version": 3
   },
   "file_extension": ".py",
   "mimetype": "text/x-python",
   "name": "python",
   "nbconvert_exporter": "python",
   "pygments_lexer": "ipython3",
   "version": "3.7.4"
  }
 },
 "nbformat": 4,
 "nbformat_minor": 2
}
